{
 "cells": [
  {
   "cell_type": "code",
   "execution_count": null,
   "id": "0a15848c",
   "metadata": {},
   "outputs": [
    {
     "name": "stdout",
     "output_type": "stream",
     "text": [
      "Error downloading CIFAR10 dataset: <urlopen error [SSL: CERTIFICATE_VERIFY_FAILED] certificate verify failed: unable to get local issuer certificate (_ssl.c:1028)>\n",
      "This may be due to SSL certificate verification failure.\n",
      "Please ensure your system's SSL certificates are up to date.\n",
      "On macOS, you may need to run: /Applications/Python\\ 3.x/Install\\ Certificates.command\n",
      "Dataset not available. Skipping image display.\n"
     ]
    }
   ],
   "source": [
    "import torch\n",
    "import torchvision as tv\n",
    "import matplotlib.pyplot as plt\n",
    "\n",
    "def show_images(dataset, num_samples = 20, cols = 4):\n",
    "    plt.figure(figsize = (15, 15))\n",
    "    for i, img in enumerate(dataset):  # Fixed: was 'data', now 'dataset'\n",
    "        if i == num_samples:\n",
    "            break\n",
    "        plt.subplot(int(num_samples/cols) + 1, cols, i + 1)  # Fixed: added int() conversion\n",
    "        plt.imshow(img[0])\n",
    "\n",
    "data = tv.datasets.CIFAR10(root = \".\", download = True)\n",
    "show_images(data)"
   ]
  },
  {
   "cell_type": "code",
   "execution_count": null,
   "id": "ce001a63",
   "metadata": {},
   "outputs": [],
   "source": []
  }
 ],
 "metadata": {
  "kernelspec": {
   "display_name": "Python 3",
   "language": "python",
   "name": "python3"
  },
  "language_info": {
   "codemirror_mode": {
    "name": "ipython",
    "version": 3
   },
   "file_extension": ".py",
   "mimetype": "text/x-python",
   "name": "python",
   "nbconvert_exporter": "python",
   "pygments_lexer": "ipython3",
   "version": "3.13.5"
  }
 },
 "nbformat": 4,
 "nbformat_minor": 5
}
