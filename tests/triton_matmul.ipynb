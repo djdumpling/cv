{
 "cells": [
  {
   "cell_type": "code",
   "execution_count": null,
   "id": "ad902565",
   "metadata": {},
   "outputs": [
    {
     "ename": "ModuleNotFoundError",
     "evalue": "No module named 'triton'",
     "output_type": "error",
     "traceback": [
      "\u001b[31m---------------------------------------------------------------------------\u001b[39m",
      "\u001b[31mModuleNotFoundError\u001b[39m                       Traceback (most recent call last)",
      "\u001b[36mCell\u001b[39m\u001b[36m \u001b[39m\u001b[32mIn[1]\u001b[39m\u001b[32m, line 2\u001b[39m\n\u001b[32m      1\u001b[39m \u001b[38;5;28;01mimport\u001b[39;00m\u001b[38;5;250m \u001b[39m\u001b[34;01mtorch\u001b[39;00m\n\u001b[32m----> \u001b[39m\u001b[32m2\u001b[39m \u001b[38;5;28;01mimport\u001b[39;00m\u001b[38;5;250m \u001b[39m\u001b[34;01mtriton\u001b[39;00m\n\u001b[32m      3\u001b[39m \u001b[38;5;28;01mimport\u001b[39;00m\u001b[38;5;250m \u001b[39m\u001b[34;01mtriton\u001b[39;00m\u001b[34;01m.\u001b[39;00m\u001b[34;01mlanguage\u001b[39;00m\u001b[38;5;250m \u001b[39m\u001b[38;5;28;01mas\u001b[39;00m\u001b[38;5;250m \u001b[39m\u001b[34;01mtl\u001b[39;00m\n\u001b[32m      4\u001b[39m \u001b[38;5;28;01mimport\u001b[39;00m\u001b[38;5;250m \u001b[39m\u001b[34;01mtorch\u001b[39;00m\n",
      "\u001b[31mModuleNotFoundError\u001b[39m: No module named 'triton'"
     ]
    }
   ],
   "source": [
    "import torch\n",
    "import triton\n",
    "import triton.language as tl\n",
    "import torch\n",
    "\n",
    "# Choose tile sizes\n",
    "BLOCK_M, BLOCK_N, BLOCK_K = 128, 128, 32\n",
    "GROUP_M = 8  # improves L2 locality\n",
    "\n",
    "def launch_matmul(A: torch.Tensor, B: torch.Tensor) -> torch.Tensor:\n",
    "    M, K = A.shape\n",
    "    K2, N = B.shape\n",
    "    assert K == K2\n",
    "    C = torch.empty((M, N), device=A.device, dtype=torch.float32)\n",
    "\n",
    "    # Compute strides in element units (Triton expects element-strides, not bytes)\n",
    "    stride_am, stride_ak = A.stride()\n",
    "    stride_bk, stride_bn = B.stride()\n",
    "    stride_cm, stride_cn = C.stride()\n",
    "\n",
    "    # Grid: how many program instances along M and N\n",
    "    grid = (\n",
    "        triton.cdiv(M, BLOCK_M) * GROUP_M,  # dim-0 (will be grouped back into pid_m/pid_n)\n",
    "        triton.cdiv(N, BLOCK_N),            # dim-1\n",
    "    )\n",
    "\n",
    "    matmul[grid](\n",
    "        A, B, C, M, N, K,\n",
    "        stride_am, stride_ak,\n",
    "        stride_bk, stride_bn,\n",
    "        stride_cm, stride_cn,\n",
    "        BLOCK_M=BLOCK_M, BLOCK_N=BLOCK_N, BLOCK_K=BLOCK_K, GROUP_M=GROUP_M,\n",
    "        num_warps=4, num_stages=3,  # good starting points; autotune in practice\n",
    "    )\n",
    "    return C"
   ]
  },
  {
   "cell_type": "code",
   "execution_count": null,
   "id": "95b0607d",
   "metadata": {},
   "outputs": [],
   "source": []
  }
 ],
 "metadata": {
  "kernelspec": {
   "display_name": "Python 3",
   "language": "python",
   "name": "python3"
  },
  "language_info": {
   "codemirror_mode": {
    "name": "ipython",
    "version": 3
   },
   "file_extension": ".py",
   "mimetype": "text/x-python",
   "name": "python",
   "nbconvert_exporter": "python",
   "pygments_lexer": "ipython3",
   "version": "3.13.5"
  }
 },
 "nbformat": 4,
 "nbformat_minor": 5
}
